{
 "cells": [
  {
   "cell_type": "markdown",
   "id": "ca69085d",
   "metadata": {},
   "source": [
    "### Datascraping French Stocks\n",
    "\n",
    "**Objective:**    \n",
    "Retrieve data to store in a CSV file to speed up the execution of other codes.\n",
    "\n",
    "**Extracted Data:**    \n",
    "- Company name    \n",
    "- Company's yfinance ticker     \n",
    "- Company sector     \n",
    "- Trading volume     \n",
    "\n",
    "**How?**      \n",
    "Using BeautifulSoup to extract data from Boursorama.\n",
    "\n",
    "**Why is trading volume important?**      \n",
    "Although the extracted volume may not fully represent the liquidity of the stock, it is a quick indicator to differentiate between liquid and illiquid stocks."
   ]
  },
  {
   "cell_type": "code",
   "execution_count": 1,
   "id": "237da424",
   "metadata": {},
   "outputs": [],
   "source": [
    "import requests\n",
    "from bs4 import BeautifulSoup\n",
    "import pandas as pd\n",
    "import yfinance as yf\n",
    "from tqdm import tqdm"
   ]
  },
  {
   "cell_type": "code",
   "execution_count": 2,
   "id": "b08496e1",
   "metadata": {
    "scrolled": true
   },
   "outputs": [
    {
     "name": "stderr",
     "output_type": "stream",
     "text": [
      "  0%|          | 0/10 [00:00<?, ?it/s]"
     ]
    },
    {
     "name": "stderr",
     "output_type": "stream",
     "text": [
      " 10%|█         | 1/10 [00:06<00:58,  6.51s/it]"
     ]
    },
    {
     "name": "stdout",
     "output_type": "stream",
     "text": [
      "SOLB.PA: No data found, symbol may be delisted\n",
      "SOLB.PA: No data found, symbol may be delisted\n"
     ]
    },
    {
     "name": "stderr",
     "output_type": "stream",
     "text": [
      " 20%|██        | 2/10 [00:12<00:49,  6.24s/it]"
     ]
    },
    {
     "name": "stdout",
     "output_type": "stream",
     "text": [
      "CYAD.PA: No data found, symbol may be delisted\n",
      "ONWD.PA: No data found, symbol may be delisted\n"
     ]
    },
    {
     "name": "stderr",
     "output_type": "stream",
     "text": [
      " 30%|███       | 3/10 [00:27<01:12, 10.37s/it]"
     ]
    },
    {
     "name": "stdout",
     "output_type": "stream",
     "text": [
      "ALALAGR.PA: No data found, symbol may be delisted\n"
     ]
    },
    {
     "name": "stderr",
     "output_type": "stream",
     "text": [
      " 40%|████      | 4/10 [00:46<01:20, 13.50s/it]"
     ]
    },
    {
     "name": "stdout",
     "output_type": "stream",
     "text": [
      "BIDS.PA: No data found, symbol may be delisted\n",
      "MLPLC.PA: Period '1d' is invalid, must be one of ['1mo', '3mo', '6mo', 'ytd', '1y', '2y', '5y', '10y', 'max']\n",
      "TITC.PA: No data found, symbol may be delisted\n"
     ]
    },
    {
     "name": "stderr",
     "output_type": "stream",
     "text": [
      " 50%|█████     | 5/10 [01:12<01:30, 18.18s/it]"
     ]
    },
    {
     "name": "stdout",
     "output_type": "stream",
     "text": [
      "ABO.PA: Period '1d' is invalid, must be one of ['1mo', '3mo', '6mo', 'ytd', '1y', '2y', '5y', '10y', 'max']\n"
     ]
    },
    {
     "name": "stderr",
     "output_type": "stream",
     "text": [
      " 60%|██████    | 6/10 [01:16<00:53, 13.25s/it]"
     ]
    },
    {
     "name": "stdout",
     "output_type": "stream",
     "text": [
      "DAR.PA: Period '1d' is invalid, must be one of ['1mo', '3mo', '6mo', 'ytd', '1y', '2y', '5y', '10y', 'max']\n"
     ]
    },
    {
     "name": "stderr",
     "output_type": "stream",
     "text": [
      " 70%|███████   | 7/10 [01:34<00:44, 14.81s/it]"
     ]
    },
    {
     "name": "stdout",
     "output_type": "stream",
     "text": [
      "MONT.PA: Period '1d' is invalid, must be one of ['1mo', '3mo', '6mo', 'ytd', '1y', '2y', '5y', '10y', 'max']\n"
     ]
    },
    {
     "name": "stderr",
     "output_type": "stream",
     "text": [
      "100%|██████████| 10/10 [02:18<00:00, 13.82s/it]\n"
     ]
    }
   ],
   "source": [
    "# For each sector, there is a number on Boursorama. And this number is useful to build the URLs of the sites we will scrape.\n",
    "dico = {'Pétrole et Gaz' : 0, 'Matériaux de base' : 1, 'Santé' : 4, 'Biens de consommation' : 3, 'Industries' : 2, 'Services aux Collectivités' : 7, 'Services aux consommateurs' : 5, 'Sociétés financières' : 8, 'Technologies' : 9, 'Télécommunications' : 6}\n",
    "\n",
    "list_sector = list(dico.keys())\n",
    "list_name = []\n",
    "list_ticker = []\n",
    "list_secteur = []\n",
    "list_volume = []\n",
    "\n",
    "# We will go through each page listing companies from each sector\n",
    "for sector in tqdm(list_sector) :\n",
    "    # We create a list containing all the URLs we will scrape\n",
    "    liste_url = ['https://www.boursorama.com/bourse/actions/cotations/secteur/?filter%5Bindustry%5D=' + str(dico[sector]) + '&filter%5BsubmitButton%5D=']\n",
    "    for i in range(2, 10) :\n",
    "        url = 'https://www.boursorama.com/bourse/actions/cotations/secteur/page-' + str(i) +'?filter%5Bindustry%5D=' + str(dico[sector]) + '&filter%5BsubmitButton%5D='\n",
    "        liste_url.append(url)\n",
    "        \n",
    "    # Then we scrape our data by going through each URL\n",
    "    for url in liste_url :\n",
    "        response = requests.get(url)\n",
    "        if response.url != url :\n",
    "            break\n",
    "        page = response.content\n",
    "        soup = BeautifulSoup(page, \"html.parser\")\n",
    "        \n",
    "        # We retrieve the transaction volume of the company\n",
    "        volumes = soup.find_all(class_=\"c-instrument c-instrument--totalvolume\")\n",
    "        list_volume_transition = []\n",
    "        for volume in volumes :\n",
    "            list_volume_transition.append(int(volume.text.replace(\" \",\"\")))\n",
    "        \n",
    "        # We retrieve the name, ticker, and volume of the stock\n",
    "        entreprises = soup.find_all(class_=\"o-pack__item u-color-cerulean u-ellipsis\")\n",
    "        for counter, entreprise in enumerate(entreprises) :\n",
    "            name = entreprise.find(\"a\").text\n",
    "            ref = entreprise.find(\"a\").get('href').replace(\"-OTC\", \"\")\n",
    "            pos = ref.find(\"P\")\n",
    "            ticker = ref[pos+1:-1] + \".PA\"\n",
    "            try :\n",
    "                # We verify that we have the correct ticker by trying to retrieve the stock price using yfinance\n",
    "                yf.Ticker(ticker).history(period=\"1d\").iloc[-1]\n",
    "                list_name.append(name)\n",
    "                list_ticker.append(ticker)\n",
    "                list_secteur.append(sector)\n",
    "                list_volume.append(list_volume_transition[counter])\n",
    "            except :\n",
    "                None\n"
   ]
  },
  {
   "cell_type": "code",
   "execution_count": null,
   "id": "ccdfd4ad",
   "metadata": {},
   "outputs": [
    {
     "data": {
      "text/html": [
       "<div>\n",
       "<style scoped>\n",
       "    .dataframe tbody tr th:only-of-type {\n",
       "        vertical-align: middle;\n",
       "    }\n",
       "\n",
       "    .dataframe tbody tr th {\n",
       "        vertical-align: top;\n",
       "    }\n",
       "\n",
       "    .dataframe thead th {\n",
       "        text-align: right;\n",
       "    }\n",
       "</style>\n",
       "<table border=\"1\" class=\"dataframe\">\n",
       "  <thead>\n",
       "    <tr style=\"text-align: right;\">\n",
       "      <th></th>\n",
       "      <th>Name</th>\n",
       "      <th>Ticker</th>\n",
       "      <th>Sector</th>\n",
       "      <th>Volume</th>\n",
       "    </tr>\n",
       "  </thead>\n",
       "  <tbody>\n",
       "    <tr>\n",
       "      <th>0</th>\n",
       "      <td>AGRIPOWER</td>\n",
       "      <td>ALAGP.PA</td>\n",
       "      <td>Pétrole et Gaz</td>\n",
       "      <td>12715</td>\n",
       "    </tr>\n",
       "    <tr>\n",
       "      <th>1</th>\n",
       "      <td>CHARWOOD ENERGY</td>\n",
       "      <td>ALCWE.PA</td>\n",
       "      <td>Pétrole et Gaz</td>\n",
       "      <td>160</td>\n",
       "    </tr>\n",
       "    <tr>\n",
       "      <th>2</th>\n",
       "      <td>ECOSLOPS</td>\n",
       "      <td>ALESA.PA</td>\n",
       "      <td>Pétrole et Gaz</td>\n",
       "      <td>4191</td>\n",
       "    </tr>\n",
       "    <tr>\n",
       "      <th>3</th>\n",
       "      <td>ENOGIA</td>\n",
       "      <td>ALENO.PA</td>\n",
       "      <td>Pétrole et Gaz</td>\n",
       "      <td>3184</td>\n",
       "    </tr>\n",
       "    <tr>\n",
       "      <th>4</th>\n",
       "      <td>ENTECH</td>\n",
       "      <td>ALESE.PA</td>\n",
       "      <td>Pétrole et Gaz</td>\n",
       "      <td>9191</td>\n",
       "    </tr>\n",
       "    <tr>\n",
       "      <th>...</th>\n",
       "      <td>...</td>\n",
       "      <td>...</td>\n",
       "      <td>...</td>\n",
       "      <td>...</td>\n",
       "    </tr>\n",
       "    <tr>\n",
       "      <th>581</th>\n",
       "      <td>EUTELSAT COMMUNIC.</td>\n",
       "      <td>ETL.PA</td>\n",
       "      <td>Télécommunications</td>\n",
       "      <td>146677</td>\n",
       "    </tr>\n",
       "    <tr>\n",
       "      <th>582</th>\n",
       "      <td>HF COMPANY</td>\n",
       "      <td>ALHF.PA</td>\n",
       "      <td>Télécommunications</td>\n",
       "      <td>50</td>\n",
       "    </tr>\n",
       "    <tr>\n",
       "      <th>583</th>\n",
       "      <td>MAROC TELECOM</td>\n",
       "      <td>IAM.PA</td>\n",
       "      <td>Télécommunications</td>\n",
       "      <td>2020</td>\n",
       "    </tr>\n",
       "    <tr>\n",
       "      <th>584</th>\n",
       "      <td>ORANGE</td>\n",
       "      <td>ORA.PA</td>\n",
       "      <td>Télécommunications</td>\n",
       "      <td>4779105</td>\n",
       "    </tr>\n",
       "    <tr>\n",
       "      <th>585</th>\n",
       "      <td>SES GLOBAL FDR</td>\n",
       "      <td>SESG.PA</td>\n",
       "      <td>Télécommunications</td>\n",
       "      <td>798924</td>\n",
       "    </tr>\n",
       "  </tbody>\n",
       "</table>\n",
       "<p>586 rows × 4 columns</p>\n",
       "</div>"
      ],
      "text/plain": [
       "                   Name    Ticker              Sector   Volume\n",
       "0             AGRIPOWER  ALAGP.PA      Pétrole et Gaz    12715\n",
       "1       CHARWOOD ENERGY  ALCWE.PA      Pétrole et Gaz      160\n",
       "2              ECOSLOPS  ALESA.PA      Pétrole et Gaz     4191\n",
       "3                ENOGIA  ALENO.PA      Pétrole et Gaz     3184\n",
       "4                ENTECH  ALESE.PA      Pétrole et Gaz     9191\n",
       "..                  ...       ...                 ...      ...\n",
       "581  EUTELSAT COMMUNIC.    ETL.PA  Télécommunications   146677\n",
       "582          HF COMPANY   ALHF.PA  Télécommunications       50\n",
       "583       MAROC TELECOM    IAM.PA  Télécommunications     2020\n",
       "584              ORANGE    ORA.PA  Télécommunications  4779105\n",
       "585      SES GLOBAL FDR   SESG.PA  Télécommunications   798924\n",
       "\n",
       "[586 rows x 4 columns]"
      ]
     },
     "execution_count": 3,
     "metadata": {},
     "output_type": "execute_result"
    }
   ],
   "source": [
    "# We create our DataFrame\n",
    "dic_data = {\"Name\": list_name, \"Ticker\": list_ticker, \"Sector\": list_secteur, \"Volume\": list_volume}\n",
    "df = pd.DataFrame(dic_data)\n",
    "\n",
    "# We save the DataFrame to a csv file\n",
    "df.to_csv(\"Dataset French Companies.csv\", index=False)\n",
    "\n",
    "df"
   ]
  }
 ],
 "metadata": {
  "kernelspec": {
   "display_name": "base",
   "language": "python",
   "name": "python3"
  },
  "language_info": {
   "codemirror_mode": {
    "name": "ipython",
    "version": 3
   },
   "file_extension": ".py",
   "mimetype": "text/x-python",
   "name": "python",
   "nbconvert_exporter": "python",
   "pygments_lexer": "ipython3",
   "version": "3.9.13"
  }
 },
 "nbformat": 4,
 "nbformat_minor": 5
}
