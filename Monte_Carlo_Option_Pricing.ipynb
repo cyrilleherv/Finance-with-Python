{
 "cells": [
  {
   "cell_type": "markdown",
   "metadata": {},
   "source": [
    "# Monte Carlo Simulation for Option Pricing\n",
    "\n",
    "We aim to price **European and Asian options** using a Monte Carlo simulation. The method consists of the following steps:\n",
    "\n",
    "### Step 1: Simulate multiple trajectories of the underlying asset price  \n",
    "Using Geometric Brownian Motion (GBM), we generate different price paths for the underlying asset over time.\n",
    "\n",
    "### Step 2: Compute the option payoff for each simulation  \n",
    "- **European options:**  \n",
    "  - **Call option:** $ \\max(S_T - K, 0) $  \n",
    "  - **Put option:** $ \\max(K - S_T, 0) $  \n",
    "  where $ S_T $ is the asset price at maturity and $ K $ is the strike price.  \n",
    "\n",
    "- **Asian options:**  \n",
    "  - **Call option:** $ \\max(\\text{mean}(S_t) - K, 0) $  \n",
    "  - **Put option:** $ \\max(K - \\text{mean}(S_t), 0) $  \n",
    "  where $ \\text{mean}(S_t) $ is the average asset price over the option's lifetime.\n",
    "\n",
    "### Step 3: Compute the expected payoff  \n",
    "The option price is approximated by averaging the payoffs across all simulations.\n",
    "\n",
    "### Step 4: Discount the expected payoff  \n",
    "To obtain the present value of the option, we discount the expected payoff using the risk-free rate $ r_f $:\n",
    "\n",
    "$$\n",
    "\\text{Option Price} = e^{-r_f T} \\cdot \\mathbb{E}[\\text{Payoff}]\n",
    "$$\n",
    "\n",
    "---\n",
    "\n",
    "## Step 1: Simulating the Underlying Asset Price\n",
    "\n",
    "To model the asset price dynamics, we use the **Geometric Brownian Motion (GBM)**, a standard stochastic process in finance.\n",
    "\n",
    "### Variance Reduction using Antithetic Variables\n",
    "\n",
    "To speed up the convergence of our Monte Carlo simulation, we use a variance reduction technique called **antithetic variables**.    \n",
    "Specifically, we geneate a set of random variables and then create their opposite counterparts (i.e., fo a variable $ Zt $, we also generate $ -Zt $).     \n",
    "This \"mirroring\" helps stabilize the payoff estimations, making the convergence towards the true option price faster and more efficient.\n",
    "\n",
    "### Vectorized Approach with NumPy\n",
    "\n",
    "Instead of using loops, we employ a **vectorized approach** with `NumPy` for efficiency.  \n",
    "Each price $ S_t $ depends on the previous price $ S_{t-1} $. Using NumPy's `cumprod` function, we can apply the exponential growth factor iteratively.\n",
    "\n",
    "### Discretized GBM Formula\n",
    "\n",
    "The asset price follows the **discretized Black-Scholes equation**:\n",
    "\n",
    "$$\n",
    "S_{t+1} = S_t \\cdot \\exp\\left( \\left( \\mu - \\frac{1}{2} \\sigma^2 \\right) \\Delta t + \\sigma \\sqrt{\\Delta t} Z_t \\right)\n",
    "$$\n",
    "\n",
    "where:\n",
    "- $ S_t $ is the asset price at time $ t $,\n",
    "- $ \\mu $ is the drift (expected return),\n",
    "- $ \\sigma $ is the asset’s volatility,\n",
    "- $ \\Delta t $ is the time step ($ \\frac{1}{252} $ for daily simulation),\n",
    "- $ Z_t \\sim N(0,1) $ is a standard normal random variable.\n",
    "\n",
    "### Reformulation as a Cumulative Product\n",
    "\n",
    "By iterating over time, the asset price can be rewritten as a **cumulative product**:\n",
    "\n",
    "$$\n",
    "S_{t+1} = S_0 \\cdot \\prod_{i=1}^{t} \\exp\\left( \\left( \\mu - \\frac{1}{2} \\sigma^2 \\right) \\Delta t + \\sigma \\sqrt{\\Delta t} Z_i \\right)\n",
    "$$\n",
    "\n",
    "where:\n",
    "- $ S_0 $ is the initial asset price,\n",
    "- $ S_{t+1} $ is the price at time $ t+1 $,\n",
    "- $ Z_i \\sim N(0,1) $ are independent normal variables.\n",
    "\n",
    "This formulation enables the simulation of multiple price paths efficiently using **matrix operations**.\n"
   ]
  },
  {
   "cell_type": "markdown",
   "metadata": {},
   "source": [
    "## 1. Setting Up the Environment"
   ]
  },
  {
   "cell_type": "code",
   "execution_count": null,
   "metadata": {},
   "outputs": [],
   "source": [
    "import numpy as np\n",
    "from scipy.stats import norm # For the Black & Scholes method"
   ]
  },
  {
   "cell_type": "markdown",
   "metadata": {},
   "source": [
    "## 2. Inputs"
   ]
  },
  {
   "cell_type": "code",
   "execution_count": 108,
   "metadata": {},
   "outputs": [],
   "source": [
    "S0 = 100      # Initial price of the underlying asset\n",
    "K = 90        # Option strike price\n",
    "T = 0.5         # Time to maturity in years\n",
    "rf = 0.02     # Annual risk-free rate\n",
    "sigma = 0.2   # Annualized volatility of the underlying asset\n",
    "n_simul = 100000  # Number of Monte Carlo simulations\n",
    "dt = 1 / 252  # Time step: 252 for daily, 12 for monthly, 52 for weekly...\n",
    "option_type = 'call'  # Type of European option\n",
    "option_nature = 'european'  # Option nature: 'european' or 'asiatic'\n"
   ]
  },
  {
   "cell_type": "markdown",
   "metadata": {},
   "source": [
    "## 3. Input Validation"
   ]
  },
  {
   "cell_type": "code",
   "execution_count": 109,
   "metadata": {},
   "outputs": [],
   "source": [
    "assert isinstance(S0, (int, float)), \"S0 must be a number (int or float)\"\n",
    "assert isinstance(K, (int, float)), \"K must be a number (int or float)\"\n",
    "assert isinstance(T, (int, float)), \"T must be a number (int or float)\"\n",
    "assert isinstance(rf, (int, float)), \"rf must be a number (int or float)\"\n",
    "assert isinstance(sigma, (int, float)), \"sigma must be a number (int or float)\"\n",
    "assert isinstance(n_simul, int), \"n_simul must be an integer\"\n",
    "assert isinstance(dt, (int, float)), \"dt must be a number (int or float)\"\n",
    "assert option_type in ['call', 'put'], \"option_type must be either 'call' or 'put'\"\n",
    "assert option_nature in ['european', 'asiatic'], \"option_nature must be either 'european' or 'asiatic'\""
   ]
  },
  {
   "cell_type": "markdown",
   "metadata": {},
   "source": [
    "## 4. Monte-Carlo simulation"
   ]
  },
  {
   "cell_type": "code",
   "execution_count": 123,
   "metadata": {},
   "outputs": [
    {
     "name": "stdout",
     "output_type": "stream",
     "text": [
      "Price of the european call option (calculated with 100000 Monte-Carlo simulations): 12.44\n"
     ]
    }
   ],
   "source": [
    "# Calculation of the number of time steps\n",
    "n_steps = int(T / dt)\n",
    "\n",
    "# Generation of random variables following a standard normal distribution\n",
    "# Each row corresponds to a simulation, and each column represents a time step\n",
    "random_walks = np.random.normal(0, 1, (int(n_simul/2), n_steps))\n",
    "\n",
    "# We use the antithetic variables method as a variance reduction technique\n",
    "antithetic_random_walks = np.vstack((random_walks, -random_walks))\n",
    "\n",
    "# Calculation of the multiplicative coefficients at each time step\n",
    "# The price evolution formula follows the discretized Itô equation (Black-Scholes model)\n",
    "coeff_multiplicateur = np.exp((rf - (sigma**2) / 2) * dt + sigma * (dt**0.5) * antithetic_random_walks)\n",
    "\n",
    "# Simulation of underlying asset prices at each time step\n",
    "simulated_prices = S0 * np.cumprod(coeff_multiplicateur, axis=1)\n",
    "\n",
    "# Calculation of payoffs based on the option type (European or Asian)\n",
    "if option_nature == \"european\":\n",
    "    if option_type == 'call':\n",
    "        # Payoff for a European call option: max(S_T - K, 0)\n",
    "        payoff = np.maximum(simulated_prices[:, -1] - K, 0)\n",
    "    elif option_type == 'put':\n",
    "        # Payoff for a European put option: max(K - S_T, 0)\n",
    "        payoff = np.maximum(K - simulated_prices[:, -1], 0)\n",
    "\n",
    "elif option_nature == \"asiatic\":\n",
    "    if option_type == 'call':\n",
    "        # Payoff for an Asian call option: max(mean(S) - K, 0)\n",
    "        payoff = np.maximum(np.mean(simulated_prices, axis=1) - K, 0)\n",
    "    elif option_type == 'put':\n",
    "        # Payoff for an Asian put option: max(K - mean(S), 0)\n",
    "        payoff = np.maximum(K - np.mean(simulated_prices, axis=1), 0)\n",
    "\n",
    "# Discounting the payoffs to obtain the option value\n",
    "discount_factor = np.exp(-rf * T)\n",
    "option_price = discount_factor * np.mean(payoff)\n",
    "\n",
    "# Displaying the option price\n",
    "print(f\"Price of the {option_nature} {option_type} option (calculated with {n_simul} Monte-Carlo simulations): {option_price:.2f}\")\n"
   ]
  },
  {
   "cell_type": "markdown",
   "metadata": {},
   "source": [
    "## 5. Comparing Monte-Carlo Results with the Black-Scholes Formula\n",
    "\n",
    "For **European options**, we can compare the option price obtained via **Monte Carlo simulation** with the **Black-Scholes analytical formula**.\n",
    "\n",
    "The Black-Scholes formula provides a theoretical price for European call and put options, given by:\n",
    "\n",
    "$\n",
    "C = S_0 N(d_1) - K e^{-r_f T} N(d_2)\n",
    "$\n",
    "\n",
    "$\n",
    "P = K e^{-r_f T} N(-d_2) - S_0 N(-d_1)\n",
    "$\n",
    "\n",
    "where:\n",
    "\n",
    "$\n",
    "d_1 = \\frac{\\ln(S_0/K) + (r_f + \\frac{1}{2} \\sigma^2)T}{\\sigma \\sqrt{T}}, \\quad d_2 = d_1 - \\sigma \\sqrt{T}\n",
    "$"
   ]
  },
  {
   "cell_type": "code",
   "execution_count": 115,
   "metadata": {},
   "outputs": [
    {
     "name": "stdout",
     "output_type": "stream",
     "text": [
      "Price of the European call option (calculated using the Black-Scholes formula): 12.45\n"
     ]
    }
   ],
   "source": [
    "# /!\\ To be used only for European options\n",
    "\n",
    "# Black-Scholes function to calculate the value of a European option (call or put)\n",
    "def black_scholes_option(S0, K, T, rf, sigma, option_type):\n",
    "    # Calculating the d1 and d2 variables\n",
    "    d1 = (np.log(S0 / K) + (rf + 0.5 * sigma**2) * T) / (sigma * np.sqrt(T))\n",
    "    d2 = d1 - sigma * np.sqrt(T)\n",
    "    \n",
    "    if option_type == 'call':\n",
    "        # Calculating the value of the call option\n",
    "        option_value = S0 * norm.cdf(d1) - K * np.exp(-rf * T) * norm.cdf(d2)\n",
    "    elif option_type == 'put':\n",
    "        # Calculating the value of the put option\n",
    "        option_value = K * np.exp(-rf * T) * norm.cdf(-d2) - S0 * norm.cdf(-d1)\n",
    "    else:\n",
    "        raise ValueError(\"Option type must be 'call' or 'put'\")\n",
    "    \n",
    "    return option_value\n",
    "\n",
    "# Calculating the option value based on type (call or put)\n",
    "if option_nature != 'european':\n",
    "    raise ValueError(\"The B&S function only works for European options\")\n",
    "else:\n",
    "    option_price = black_scholes_option(S0, K, T, rf, sigma, option_type)\n",
    "    print(f\"Price of the European {option_type} option (calculated using the Black-Scholes formula): {option_price:.2f}\")"
   ]
  },
  {
   "cell_type": "markdown",
   "metadata": {},
   "source": [
    "## 6. Consistency of Monte Carlo Results with Black-Scholes\n",
    "\n",
    "The results obtained from our **Monte Carlo simulation** for European options are **very close** to those computed with the **Black-Scholes formula**.  \n",
    "\n",
    "This is expected, as the Monte Carlo method is simply a numerical approximation of the same theoretical model used in Black-Scholes. The slight discrepancies arise due to simulation noise, which decreases as we increase the number of simulations.\n"
   ]
  }
 ],
 "metadata": {
  "kernelspec": {
   "display_name": "Python 3",
   "language": "python",
   "name": "python3"
  },
  "language_info": {
   "codemirror_mode": {
    "name": "ipython",
    "version": 3
   },
   "file_extension": ".py",
   "mimetype": "text/x-python",
   "name": "python",
   "nbconvert_exporter": "python",
   "pygments_lexer": "ipython3",
   "version": "3.11.9"
  }
 },
 "nbformat": 4,
 "nbformat_minor": 2
}
